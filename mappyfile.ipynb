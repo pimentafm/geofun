{
 "cells": [
  {
   "cell_type": "code",
   "execution_count": 1,
   "metadata": {},
   "outputs": [],
   "source": [
    "import geofun"
   ]
  },
  {
   "cell_type": "code",
   "execution_count": 2,
   "metadata": {},
   "outputs": [],
   "source": [
    "mapfile = geofun.RasterMapfile()"
   ]
  },
  {
   "cell_type": "code",
   "execution_count": 3,
   "metadata": {},
   "outputs": [],
   "source": [
    "mapfile.genMapfile('Nome do mapa', 'Nome do layer', '/var/www/dados.map')"
   ]
  },
  {
   "cell_type": "code",
   "execution_count": 4,
   "metadata": {},
   "outputs": [],
   "source": [
    "mapfile.save('MMMM.map')"
   ]
  },
  {
   "cell_type": "code",
   "execution_count": 5,
   "metadata": {},
   "outputs": [
    {
     "name": "stdout",
     "output_type": "stream",
     "text": [
      "MAP\n",
      "    NAME \"Nome do mapa\"\n",
      "    SIZE 800 650\n",
      "    EXTENT BoundingBox\n",
      "    WEB\n",
      "        METADATA\n",
      "            \"wms_title\" \"Nome do mapa\"\n",
      "            \"wms_enable_request\" \"GetCapabilities GetMap GetFeatureInfo\"\n",
      "            \"wms_feature_info_mime_type\" \"text/html\"\n",
      "            \"wms_include_items\" \"all\"\n",
      "        END\n",
      "        LAYER\n",
      "            NAME \"Nome do layer\"\n",
      "            STATUS DEFAULT\n",
      "            TYPE RASTER\n",
      "            DUMP TRUE\n",
      "            TOLERANCE 80\n",
      "            DATA \"LayerFilePath\"\n",
      "            CLASSITEM \"[pixel]\"\n",
      "            CLASS\n",
      "                NAME \"Formações florestais\"\n",
      "                EXPRESSION ( [pixel] == 1 )\n",
      "                STYLE\n",
      "                    OPACITY 100\n",
      "                    COLOR 0 64 0\n",
      "                END\n",
      "            END\n",
      "            CLASS\n",
      "                NAME \"Formações savânicas\"\n",
      "                EXPRESSION ( [pixel] == 2 )\n",
      "                STYLE\n",
      "                    OPACITY 100\n",
      "                    COLOR 119 166 5\n",
      "                END\n",
      "            END\n",
      "            CLASS\n",
      "                NAME \"Formações campestres\"\n",
      "                EXPRESSION ( [pixel] == 3 )\n",
      "                STYLE\n",
      "                    OPACITY 100\n",
      "                    COLOR 184 175 79\n",
      "                END\n",
      "            END\n",
      "            CLASS\n",
      "                NAME \"Mosaico de agricultura ou pastagem\"\n",
      "                EXPRESSION ( [pixel] == 4 )\n",
      "                STYLE\n",
      "                    OPACITY 100\n",
      "                    COLOR 246 230 219\n",
      "                END\n",
      "            END\n",
      "            CLASS\n",
      "                NAME \"Agricultura de sequeiro\"\n",
      "                EXPRESSION ( [pixel] == 5 )\n",
      "                STYLE\n",
      "                    OPACITY 100\n",
      "                    COLOR 255 202 255\n",
      "                END\n",
      "            END\n",
      "            CLASS\n",
      "                NAME \"Agricultura irrigada\"\n",
      "                EXPRESSION ( [pixel] == 6 )\n",
      "                STYLE\n",
      "                    OPACITY 100\n",
      "                    COLOR 255 66 249\n",
      "                END\n",
      "            END\n",
      "            CLASS\n",
      "                NAME \"Pastagem\"\n",
      "                EXPRESSION ( [pixel] == 7 )\n",
      "                STYLE\n",
      "                    OPACITY 100\n",
      "                    COLOR 244 242 134\n",
      "                END\n",
      "            END\n",
      "            CLASS\n",
      "                NAME \"Corpos d'água\"\n",
      "                EXPRESSION ( [pixel] == 8 )\n",
      "                STYLE\n",
      "                    OPACITY 100\n",
      "                    COLOR 0 0 255\n",
      "                END\n",
      "            END\n",
      "            CLASS\n",
      "                NAME \"Área urbana/Construções rurais\"\n",
      "                EXPRESSION ( [pixel] == 9 )\n",
      "                STYLE\n",
      "                    OPACITY 100\n",
      "                    COLOR 255 0 0\n",
      "                END\n",
      "            END\n",
      "        END\n",
      "    END\n",
      "END"
     ]
    }
   ],
   "source": [
    "!cat MMMM.map"
   ]
  },
  {
   "cell_type": "code",
   "execution_count": null,
   "metadata": {},
   "outputs": [],
   "source": []
  }
 ],
 "metadata": {
  "kernelspec": {
   "display_name": "Python 3",
   "language": "python",
   "name": "python3"
  },
  "language_info": {
   "codemirror_mode": {
    "name": "ipython",
    "version": 3
   },
   "file_extension": ".py",
   "mimetype": "text/x-python",
   "name": "python",
   "nbconvert_exporter": "python",
   "pygments_lexer": "ipython3",
   "version": "3.7.4"
  }
 },
 "nbformat": 4,
 "nbformat_minor": 4
}
