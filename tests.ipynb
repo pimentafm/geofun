{
 "cells": [
  {
   "cell_type": "code",
   "execution_count": 1,
   "metadata": {},
   "outputs": [],
   "source": [
    "import geofun"
   ]
  },
  {
   "cell_type": "code",
   "execution_count": 8,
   "metadata": {},
   "outputs": [],
   "source": [
    "a = '/home/fernando/Documents/workspace/PRODEAGRO/gendata/areacontribuicaon5.shp'\n",
    "output = '/home/fernando/Documents/workspace/PRODEAGRO/gendata/polygons_geofun/'"
   ]
  },
  {
   "cell_type": "code",
   "execution_count": 3,
   "metadata": {},
   "outputs": [],
   "source": [
    "arq = geofun.features.Shapefile(a)"
   ]
  },
  {
   "cell_type": "code",
   "execution_count": 4,
   "metadata": {},
   "outputs": [],
   "source": [
    "geofun.features.getFeaturesBBOX(arq, 'ottocod')"
   ]
  },
  {
   "cell_type": "code",
   "execution_count": 10,
   "metadata": {},
   "outputs": [],
   "source": [
    "for i in arq.bbox['ottocod']:\n",
    "    bbox = arq.bbox.loc[arq.bbox['ottocod'] == i]\n",
    "    \n",
    "    pol = geofun.features.polygonFromBBOX(bbox)\n",
    "    \n",
    "    geofun.features.savePolygon2Shp(filename = output + 'bacia_' + i + '.shp', \n",
    "                                    pol = pol, \n",
    "                                    field = 'ottocod',\n",
    "                                    fieldvalue= i)"
   ]
  }
 ],
 "metadata": {
  "kernelspec": {
   "display_name": "Python 3",
   "language": "python",
   "name": "python3"
  },
  "language_info": {
   "codemirror_mode": {
    "name": "ipython",
    "version": 3
   },
   "file_extension": ".py",
   "mimetype": "text/x-python",
   "name": "python",
   "nbconvert_exporter": "python",
   "pygments_lexer": "ipython3",
   "version": "3.7.4"
  }
 },
 "nbformat": 4,
 "nbformat_minor": 4
}
