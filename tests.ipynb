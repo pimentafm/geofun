{
 "cells": [
  {
   "cell_type": "code",
   "execution_count": 23,
   "metadata": {},
   "outputs": [],
   "source": [
    "\"\"\"\n",
    "    Fernando Martins Pimenta\n",
    "    \n",
    "    Get the bounding box of each feature in a shapefile \n",
    "    to generate polygons based on their bounding boxes.\n",
    "\"\"\"\n",
    "\n",
    "import shapefile\n",
    "import geopandas as gpd\n",
    "import pandas as pd\n",
    "from shapely.geometry import Polygon\n",
    "from osgeo import osr\n",
    "import os\n",
    "\n",
    "cwd = os.getcwd()\n",
    "\n",
    "sf = shapefile.Reader('areacontribuicaon5.shp')\n",
    "shapes = sf.shapes() \n",
    "\n",
    "rec = sf.records()\n",
    "\n",
    "data = pd.DataFrame(index=range(len(rec)), columns=['ottocod', 'xmin', 'ymin','xmax', 'ymax'])\n",
    "\n",
    "for i in range(len(rec)):\n",
    "    data['ottocod'][i] = rec[i][0]\n",
    "    data['xmin'][i] = shapes[i].bbox[0]\n",
    "    data['ymin'][i] = shapes[i].bbox[1]\n",
    "    data['xmax'][i] = shapes[i].bbox[2]\n",
    "    data['ymax'][i] = shapes[i].bbox[3]\n",
    "    \n",
    "data.to_csv('basin_bbox.csv', sep = ',')\n",
    "\n",
    "target_epsg = 4326\n",
    "\n",
    "# Create a polygon shapefile\n",
    "w = shapefile.Writer(cwd+'/XXX.shp')\n",
    "w.shapeType = 5\n",
    "\n",
    "w.field('ottocod','N')\n",
    "\n",
    "pol = [[\n",
    "    [data['xmin'][0],data['ymin'][0]],\n",
    "    [data['xmin'][0],data['ymax'][0]],\n",
    "    [data['xmax'][0],data['ymax'][0]],\n",
    "    [data['xmax'][0],data['ymin'][0]],\n",
    "    [data['xmin'][0],data['ymin'][0]]\n",
    "]]\n",
    "\n",
    "w.poly(pol)\n",
    "\n",
    "w.record(data['ottocod'][0])\n",
    "\n",
    "w.close()\n",
    "\n",
    "dst_file = cwd+'/XXX.shp'\n",
    "\n",
    "## create ESRI prj-file\n",
    "sr = osr.SpatialReference()\n",
    "sr.ImportFromEPSG(target_epsg)\n",
    "sr.MorphToESRI()\n",
    "with open(dst_file.replace('.shp', '.prj'), 'w') as prj:\n",
    "    prj.write(sr.ExportToWkt())"
   ]
  },
  {
   "cell_type": "code",
   "execution_count": 21,
   "metadata": {},
   "outputs": [
    {
     "name": "stdout",
     "output_type": "stream",
     "text": [
      "Help on method field in module shapefile:\n",
      "\n",
      "field(name, fieldType='C', size='50', decimal=0) method of shapefile.Writer instance\n",
      "    Adds a dbf field descriptor to the shapefile.\n",
      "\n"
     ]
    }
   ],
   "source": [
    "help(w.field)"
   ]
  },
  {
   "cell_type": "code",
   "execution_count": null,
   "metadata": {},
   "outputs": [],
   "source": []
  },
  {
   "cell_type": "code",
   "execution_count": null,
   "metadata": {},
   "outputs": [],
   "source": []
  },
  {
   "cell_type": "code",
   "execution_count": null,
   "metadata": {},
   "outputs": [],
   "source": []
  }
 ],
 "metadata": {
  "kernelspec": {
   "display_name": "Python 3",
   "language": "python",
   "name": "python3"
  },
  "language_info": {
   "codemirror_mode": {
    "name": "ipython",
    "version": 3
   },
   "file_extension": ".py",
   "mimetype": "text/x-python",
   "name": "python",
   "nbconvert_exporter": "python",
   "pygments_lexer": "ipython3",
   "version": "3.7.4"
  }
 },
 "nbformat": 4,
 "nbformat_minor": 4
}
