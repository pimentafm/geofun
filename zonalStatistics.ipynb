{
 "cells": [
  {
   "cell_type": "code",
   "execution_count": 1,
   "metadata": {},
   "outputs": [],
   "source": [
    "from rasterstats import zonal_stats"
   ]
  },
  {
   "cell_type": "code",
   "execution_count": 5,
   "metadata": {},
   "outputs": [],
   "source": [
    "a = '/home/fernando/Documents/workspace/PRODEAGRO/gendata/areacontribuicaon5.shp'\n",
    "b = '/home/fernando/Documents/workspace/PRODEAGRO/gendata/classification2018v32.tif'\n",
    "output = '/home/fernando/Documents/workspace/PRODEAGRO/gendata/polygons_geofun/'"
   ]
  },
  {
   "cell_type": "code",
   "execution_count": 6,
   "metadata": {},
   "outputs": [],
   "source": [
    "stats = zonal_stats(a, b)"
   ]
  },
  {
   "cell_type": "code",
   "execution_count": 13,
   "metadata": {},
   "outputs": [
    {
     "data": {
      "text/plain": [
       "{'min': 1.0, 'max': 9.0, 'mean': 4.027814671565223, 'count': 804863}"
      ]
     },
     "execution_count": 13,
     "metadata": {},
     "output_type": "execute_result"
    }
   ],
   "source": [
    "stats[4]"
   ]
  },
  {
   "cell_type": "code",
   "execution_count": 10,
   "metadata": {},
   "outputs": [],
   "source": [
    "for i in arq.bbox['ottocod']:\n",
    "    bbox = arq.bbox.loc[arq.bbox['ottocod'] == i]\n",
    "    \n",
    "    pol = geofun.features.polygonFromBBOX(bbox)\n",
    "    \n",
    "    geofun.features.savePolygon2Shp(filename = output + 'bacia_' + i + '.shp', \n",
    "                                    pol = pol, \n",
    "                                    field = 'ottocod',\n",
    "                                    fieldvalue= i)"
   ]
  }
 ],
 "metadata": {
  "kernelspec": {
   "display_name": "Python 3",
   "language": "python",
   "name": "python3"
  },
  "language_info": {
   "codemirror_mode": {
    "name": "ipython",
    "version": 3
   },
   "file_extension": ".py",
   "mimetype": "text/x-python",
   "name": "python",
   "nbconvert_exporter": "python",
   "pygments_lexer": "ipython3",
   "version": "3.7.4"
  }
 },
 "nbformat": 4,
 "nbformat_minor": 4
}
